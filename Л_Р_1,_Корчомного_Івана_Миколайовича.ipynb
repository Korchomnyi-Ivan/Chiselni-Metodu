{
  "nbformat": 4,
  "nbformat_minor": 0,
  "metadata": {
    "colab": {
      "provenance": [],
      "include_colab_link": true
    },
    "kernelspec": {
      "name": "python3",
      "display_name": "Python 3"
    },
    "language_info": {
      "name": "python"
    }
  },
  "cells": [
    {
      "cell_type": "markdown",
      "metadata": {
        "id": "view-in-github",
        "colab_type": "text"
      },
      "source": [
        "<a href=\"https://colab.research.google.com/github/Korchomnyi-Ivan/Chiselni-Metodu/blob/main/%D0%9B_%D0%A0_1%2C_%D0%9A%D0%BE%D1%80%D1%87%D0%BE%D0%BC%D0%BD%D0%BE%D0%B3%D0%BE_%D0%86%D0%B2%D0%B0%D0%BD%D0%B0_%D0%9C%D0%B8%D0%BA%D0%BE%D0%BB%D0%B0%D0%B9%D0%BE%D0%B2%D0%B8%D1%87%D0%B0.ipynb\" target=\"_parent\"><img src=\"https://colab.research.google.com/assets/colab-badge.svg\" alt=\"Open In Colab\"/></a>"
      ]
    },
    {
      "cell_type": "markdown",
      "source": [
        "#Корчомний Іван, Варіант 4\n",
        "Похибки обчислень"
      ],
      "metadata": {
        "id": "QIS1w_NEiL7P"
      }
    },
    {
      "cell_type": "markdown",
      "source": [
        "#Завдання. Обчислення відносної і абсолютної похибки"
      ],
      "metadata": {
        "id": "7ClyPDrHiprY"
      }
    },
    {
      "cell_type": "code",
      "execution_count": null,
      "metadata": {
        "id": "f4CX7RUAiJ8a",
        "colab": {
          "base_uri": "https://localhost:8080/",
          "height": 339
        },
        "outputId": "96253b6a-d7d5-428f-f363-57e6163d3705"
      },
      "outputs": [
        {
          "output_type": "error",
          "ename": "KeyboardInterrupt",
          "evalue": "Interrupted by user",
          "traceback": [
            "\u001b[0;31m---------------------------------------------------------------------------\u001b[0m",
            "\u001b[0;31mKeyboardInterrupt\u001b[0m                         Traceback (most recent call last)",
            "\u001b[0;32m<ipython-input-1-744e8224a8f6>\u001b[0m in \u001b[0;36m<cell line: 0>\u001b[0;34m()\u001b[0m\n\u001b[0;32m----> 1\u001b[0;31m \u001b[0mx\u001b[0m \u001b[0;34m=\u001b[0m \u001b[0mfloat\u001b[0m\u001b[0;34m(\u001b[0m\u001b[0minput\u001b[0m\u001b[0;34m(\u001b[0m\u001b[0;34m'Введіть наближене значенння величини X: '\u001b[0m \u001b[0;34m)\u001b[0m\u001b[0;34m)\u001b[0m\u001b[0;34m\u001b[0m\u001b[0;34m\u001b[0m\u001b[0m\n\u001b[0m\u001b[1;32m      2\u001b[0m \u001b[0mdelta_x\u001b[0m \u001b[0;34m=\u001b[0m \u001b[0mfloat\u001b[0m\u001b[0;34m(\u001b[0m\u001b[0minput\u001b[0m\u001b[0;34m(\u001b[0m\u001b[0;34m'Введіть абсолютну похибку вимірювання величини X: '\u001b[0m\u001b[0;34m)\u001b[0m\u001b[0;34m)\u001b[0m\u001b[0;34m\u001b[0m\u001b[0;34m\u001b[0m\u001b[0m\n\u001b[1;32m      3\u001b[0m \u001b[0my\u001b[0m \u001b[0;34m=\u001b[0m \u001b[0mfloat\u001b[0m\u001b[0;34m(\u001b[0m\u001b[0minput\u001b[0m\u001b[0;34m(\u001b[0m\u001b[0;34m'Введіть наближене значенння величини Y: '\u001b[0m \u001b[0;34m)\u001b[0m\u001b[0;34m)\u001b[0m\u001b[0;34m\u001b[0m\u001b[0;34m\u001b[0m\u001b[0m\n\u001b[1;32m      4\u001b[0m \u001b[0mdelta_y\u001b[0m \u001b[0;34m=\u001b[0m \u001b[0mfloat\u001b[0m\u001b[0;34m(\u001b[0m\u001b[0minput\u001b[0m\u001b[0;34m(\u001b[0m\u001b[0;34m'Введіть абсолютну похибку вимірювання величини Y: '\u001b[0m\u001b[0;34m)\u001b[0m\u001b[0;34m)\u001b[0m\u001b[0;34m\u001b[0m\u001b[0;34m\u001b[0m\u001b[0m\n",
            "\u001b[0;32m/usr/local/lib/python3.11/dist-packages/ipykernel/kernelbase.py\u001b[0m in \u001b[0;36mraw_input\u001b[0;34m(self, prompt)\u001b[0m\n\u001b[1;32m   1175\u001b[0m                 \u001b[0;34m\"raw_input was called, but this frontend does not support input requests.\"\u001b[0m\u001b[0;34m\u001b[0m\u001b[0;34m\u001b[0m\u001b[0m\n\u001b[1;32m   1176\u001b[0m             )\n\u001b[0;32m-> 1177\u001b[0;31m         return self._input_request(\n\u001b[0m\u001b[1;32m   1178\u001b[0m             \u001b[0mstr\u001b[0m\u001b[0;34m(\u001b[0m\u001b[0mprompt\u001b[0m\u001b[0;34m)\u001b[0m\u001b[0;34m,\u001b[0m\u001b[0;34m\u001b[0m\u001b[0;34m\u001b[0m\u001b[0m\n\u001b[1;32m   1179\u001b[0m             \u001b[0mself\u001b[0m\u001b[0;34m.\u001b[0m\u001b[0m_parent_ident\u001b[0m\u001b[0;34m[\u001b[0m\u001b[0;34m\"shell\"\u001b[0m\u001b[0;34m]\u001b[0m\u001b[0;34m,\u001b[0m\u001b[0;34m\u001b[0m\u001b[0;34m\u001b[0m\u001b[0m\n",
            "\u001b[0;32m/usr/local/lib/python3.11/dist-packages/ipykernel/kernelbase.py\u001b[0m in \u001b[0;36m_input_request\u001b[0;34m(self, prompt, ident, parent, password)\u001b[0m\n\u001b[1;32m   1217\u001b[0m             \u001b[0;32mexcept\u001b[0m \u001b[0mKeyboardInterrupt\u001b[0m\u001b[0;34m:\u001b[0m\u001b[0;34m\u001b[0m\u001b[0;34m\u001b[0m\u001b[0m\n\u001b[1;32m   1218\u001b[0m                 \u001b[0;31m# re-raise KeyboardInterrupt, to truncate traceback\u001b[0m\u001b[0;34m\u001b[0m\u001b[0;34m\u001b[0m\u001b[0m\n\u001b[0;32m-> 1219\u001b[0;31m                 \u001b[0;32mraise\u001b[0m \u001b[0mKeyboardInterrupt\u001b[0m\u001b[0;34m(\u001b[0m\u001b[0;34m\"Interrupted by user\"\u001b[0m\u001b[0;34m)\u001b[0m \u001b[0;32mfrom\u001b[0m \u001b[0;32mNone\u001b[0m\u001b[0;34m\u001b[0m\u001b[0;34m\u001b[0m\u001b[0m\n\u001b[0m\u001b[1;32m   1220\u001b[0m             \u001b[0;32mexcept\u001b[0m \u001b[0mException\u001b[0m\u001b[0;34m:\u001b[0m\u001b[0;34m\u001b[0m\u001b[0;34m\u001b[0m\u001b[0m\n\u001b[1;32m   1221\u001b[0m                 \u001b[0mself\u001b[0m\u001b[0;34m.\u001b[0m\u001b[0mlog\u001b[0m\u001b[0;34m.\u001b[0m\u001b[0mwarning\u001b[0m\u001b[0;34m(\u001b[0m\u001b[0;34m\"Invalid Message:\"\u001b[0m\u001b[0;34m,\u001b[0m \u001b[0mexc_info\u001b[0m\u001b[0;34m=\u001b[0m\u001b[0;32mTrue\u001b[0m\u001b[0;34m)\u001b[0m\u001b[0;34m\u001b[0m\u001b[0;34m\u001b[0m\u001b[0m\n",
            "\u001b[0;31mKeyboardInterrupt\u001b[0m: Interrupted by user"
          ]
        }
      ],
      "source": [
        "x = float(input('Введіть наближене значенння величини X: ' ))\n",
        "delta_x = float(input('Введіть абсолютну похибку вимірювання величини X: '))\n",
        "y = float(input('Введіть наближене значенння величини Y: ' ))\n",
        "delta_y = float(input('Введіть абсолютну похибку вимірювання величини Y: '))\n"
      ]
    },
    {
      "cell_type": "code",
      "source": [
        "omega_x = delta_x/x\n",
        "omega_y = delta_y/y\n",
        "\n",
        "print('Відносна похибка значення величини X: ', omega_x)\n",
        "print('Відносна похибка значення величини Y: ', omega_y)\n",
        "\n"
      ],
      "metadata": {
        "colab": {
          "base_uri": "https://localhost:8080/"
        },
        "id": "YiFvKKkZiiom",
        "outputId": "bafe54a3-ca30-4237-9a94-457e7b2cb253"
      },
      "execution_count": null,
      "outputs": [
        {
          "output_type": "stream",
          "name": "stdout",
          "text": [
            "Відносна похибка значення величини X:  1.0193548387096774\n",
            "Відносна похибка значення величини Y:  1.019047619047619\n"
          ]
        }
      ]
    },
    {
      "cell_type": "code",
      "source": [
        "def delta_sum(delta_x, delta_y):\n",
        "    return delta_x + delta_y\n",
        "print('Абсолютна похибка X+Y: ', delta_sum(delta_x, delta_y))\n"
      ],
      "metadata": {
        "colab": {
          "base_uri": "https://localhost:8080/"
        },
        "id": "fNac_lqCiydf",
        "outputId": "5dffb0a8-eef9-4dcf-d129-ec8140cbea25"
      },
      "execution_count": null,
      "outputs": [
        {
          "output_type": "stream",
          "name": "stdout",
          "text": [
            "Абсолютна похибка X+Y:  5.300000000000001\n"
          ]
        }
      ]
    },
    {
      "cell_type": "code",
      "source": [
        "def delta_sub(delta_x, delta_y):\n",
        "    return delta_x - delta_y\n",
        "print('Абсолютна похибка X-Y: ', delta_sub(delta_x, delta_y))\n"
      ],
      "metadata": {
        "colab": {
          "base_uri": "https://localhost:8080/"
        },
        "id": "gUQ2-FeNioLI",
        "outputId": "2a6d5f1b-cc9d-4272-f158-c814b2556694"
      },
      "execution_count": null,
      "outputs": [
        {
          "output_type": "stream",
          "name": "stdout",
          "text": [
            "Абсолютна похибка X-Y:  0.04\n"
          ]
        }
      ]
    },
    {
      "cell_type": "code",
      "source": [
        "def delta_mult(x, y, delta_x, delta_y):\n",
        "    return delta_x*delta_y + delta_x*y + x*delta_y\n",
        "print('Абсолютна похибка X*Y: ', delta_mult(x, y, delta_x, delta_y))"
      ],
      "metadata": {
        "colab": {
          "base_uri": "https://localhost:8080/"
        },
        "id": "4aN_ZX2Qi9N5",
        "outputId": "5d01570e-ca53-40dc-d97b-511896409445"
      },
      "execution_count": null,
      "outputs": [
        {
          "output_type": "stream",
          "name": "stdout",
          "text": [
            "Абсолютна похибка X*Y:  0.16749999999999998\n"
          ]
        }
      ]
    },
    {
      "cell_type": "code",
      "source": [
        "def delta_div(x, y, delta_x, delta_y):\n",
        "    return (delta_x + x)/(delta_y +y) - x/y\n",
        "print('Абсолютна похибка X/Y: ', delta_div(x, y, delta_x, delta_y))\n"
      ],
      "metadata": {
        "colab": {
          "base_uri": "https://localhost:8080/"
        },
        "id": "8ghAYPOOjDSY",
        "outputId": "81674010-86ab-42cc-fcca-bde65e93fb72"
      },
      "execution_count": null,
      "outputs": [
        {
          "output_type": "stream",
          "name": "stdout",
          "text": [
            "Абсолютна похибка X/Y:  -0.02172636523781435\n"
          ]
        }
      ]
    },
    {
      "cell_type": "code",
      "source": [
        "def omega_sum(x, y, omega_x, omega_y):\n",
        "    return x/(x+y)*omega_x + y/(x+y)*omega_y\n",
        "print('Відносна похибка X+Y: ', omega_sum(x, y, omega_x, omega_y))\n"
      ],
      "metadata": {
        "colab": {
          "base_uri": "https://localhost:8080/"
        },
        "id": "hZP_9ElkjHb8",
        "outputId": "0daf11bd-1c86-4489-fa09-efae6e9871d3"
      },
      "execution_count": null,
      "outputs": [
        {
          "output_type": "stream",
          "name": "stdout",
          "text": [
            "Відносна похибка X+Y:  0.0052173913043478265\n"
          ]
        }
      ]
    },
    {
      "cell_type": "code",
      "source": [
        "def omega_sub(x, y, omega_x, omega_y):\n",
        "    return x/(x-y)*omega_x - y/(x-y)*omega_y\n",
        "print('Відносна похибка X-Y: ', omega_sub(x, y, omega_x, omega_y))\n"
      ],
      "metadata": {
        "colab": {
          "base_uri": "https://localhost:8080/"
        },
        "id": "a-dSKrSCjN3f",
        "outputId": "91ee69e3-7eff-4060-90fc-a57ea725b95f"
      },
      "execution_count": null,
      "outputs": [
        {
          "output_type": "stream",
          "name": "stdout",
          "text": [
            "Відносна похибка X-Y:  0.006185567010309281\n"
          ]
        }
      ]
    },
    {
      "cell_type": "code",
      "source": [
        "def omega_mult(omega_x, omega_y):\n",
        "    return omega_x*omega_y + omega_x + omega_y\n",
        "print('Відносна похибка X*Y: ', omega_mult(omega_x, omega_y))\n",
        "\n"
      ],
      "metadata": {
        "colab": {
          "base_uri": "https://localhost:8080/"
        },
        "id": "gNlz6A5wjRHR",
        "outputId": "c4a23e7d-7150-40d2-c46b-26b2e21eda08"
      },
      "execution_count": null,
      "outputs": [
        {
          "output_type": "stream",
          "name": "stdout",
          "text": [
            "Відносна похибка X*Y:  0.012631975867269985\n"
          ]
        }
      ]
    },
    {
      "cell_type": "code",
      "source": [
        "def omega_div(omega_x, omega_y):\n",
        "    return (omega_x - omega_y) / (omega_y + 1)\n",
        "print('Відносна похибка X/Y: ', omega_div(omega_x, omega_y))"
      ],
      "metadata": {
        "colab": {
          "base_uri": "https://localhost:8080/"
        },
        "id": "CdSAJEPRjTlz",
        "outputId": "9a0c232b-17b9-4725-d3ab-768374ed1399"
      },
      "execution_count": null,
      "outputs": [
        {
          "output_type": "stream",
          "name": "stdout",
          "text": [
            "Відносна похибка X/Y:  0.00015216068167985694\n"
          ]
        }
      ]
    },
    {
      "cell_type": "markdown",
      "source": [
        "Приклад реалізації завдання 1"
      ],
      "metadata": {
        "id": "Be7Zm1jb9ZjU"
      }
    },
    {
      "cell_type": "code",
      "source": [
        "import numpy as np\n",
        "\n",
        "def f(x, y):\n",
        "    return np.abs(x - y) / np.abs(x)\n",
        "\n",
        "def main():\n",
        "    x1 = np.sqrt(10)  # Точне значення sqrt(10)\n",
        "    x2 = 15 / 7  # Точне значення 15/7\n",
        "    x1_1 = 3.16  # Наближене значення sqrt(10)\n",
        "    x2_2 = 2.14  # Наближене значення 15/7\n",
        "\n",
        "    rel_error_x1 = f(x1, x1_1)\n",
        "    rel_error_x2 = f(x2, x2_2)\n",
        "\n",
        "    if rel_error_x1 < rel_error_x2:\n",
        "        print(\"Перша рівність точніше з відносною похибкою:\", round(rel_error_x1, 5))\n",
        "    elif rel_error_x2 < rel_error_x1:\n",
        "        print(\"Друга рівність точніше з відносною похибкою:\", round(rel_error_x2, 5))\n",
        "    else:\n",
        "        print(\"Обидві рівності мають однакову точність з відносною похибкою:\", round(rel_error_x2, 5))\n",
        "\n",
        "if __name__ == \"__main__\":\n",
        "    main()\n"
      ],
      "metadata": {
        "colab": {
          "base_uri": "https://localhost:8080/"
        },
        "id": "k34h0Z6EjU1P",
        "outputId": "3bac1f73-0936-474d-87ca-bc4322b3b1ca"
      },
      "execution_count": null,
      "outputs": [
        {
          "output_type": "stream",
          "name": "stdout",
          "text": [
            "Перша рівність точніше з відносною похибкою: 0.00072\n"
          ]
        }
      ]
    }
  ]
}