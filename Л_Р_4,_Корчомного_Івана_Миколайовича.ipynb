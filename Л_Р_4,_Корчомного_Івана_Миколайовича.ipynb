{
  "cells": [
    {
      "cell_type": "markdown",
      "metadata": {
        "id": "view-in-github",
        "colab_type": "text"
      },
      "source": [
        "<a href=\"https://colab.research.google.com/github/Korchomnyi-Ivan/Chiselni-Metodu/blob/main/%D0%9B_%D0%A0_4%2C_%D0%9A%D0%BE%D1%80%D1%87%D0%BE%D0%BC%D0%BD%D0%BE%D0%B3%D0%BE_%D0%86%D0%B2%D0%B0%D0%BD%D0%B0_%D0%9C%D0%B8%D0%BA%D0%BE%D0%BB%D0%B0%D0%B9%D0%BE%D0%B2%D0%B8%D1%87%D0%B0.ipynb\" target=\"_parent\"><img src=\"https://colab.research.google.com/assets/colab-badge.svg\" alt=\"Open In Colab\"/></a>"
      ]
    },
    {
      "cell_type": "markdown",
      "source": [
        "Лабораторна робота 4_1, Корчомного Івана Миколайовича, Група ФІТ 2-15. Тема: «Робота з матрицями»"
      ],
      "metadata": {
        "id": "IkAW-U4z1Hrz"
      },
      "id": "IkAW-U4z1Hrz"
    },
    {
      "cell_type": "code",
      "execution_count": null,
      "id": "0933fef7-7415-45e1-808f-458fd0a00c14",
      "metadata": {
        "tags": [],
        "id": "0933fef7-7415-45e1-808f-458fd0a00c14"
      },
      "outputs": [],
      "source": [
        "#Встaновити numpy\n",
        "#!pip install numpy"
      ]
    },
    {
      "cell_type": "code",
      "source": [
        "# Приклади роботи з матрицями\n",
        "import numpy as np\n",
        "# Отримання версії бібліотеки NumPy\n",
        "numpy_version = np.__version__\n",
        "numpy_version\n"
      ],
      "metadata": {
        "colab": {
          "base_uri": "https://localhost:8080/",
          "height": 35
        },
        "id": "nETPPRQBKp5_",
        "outputId": "5352cb84-26fb-42bc-ac42-d4ddea07a77f"
      },
      "id": "nETPPRQBKp5_",
      "execution_count": null,
      "outputs": [
        {
          "output_type": "execute_result",
          "data": {
            "text/plain": [
              "'2.0.2'"
            ],
            "application/vnd.google.colaboratory.intrinsic+json": {
              "type": "string"
            }
          },
          "metadata": {},
          "execution_count": 44
        }
      ]
    },
    {
      "cell_type": "code",
      "source": [
        "#1.\n",
        "matrix = np.random.randint(1, 6, size =(3, 3))\n",
        "\n",
        "matrix"
      ],
      "metadata": {
        "colab": {
          "base_uri": "https://localhost:8080/"
        },
        "id": "JCinAxgVxqDm",
        "outputId": "ef1e7a66-48a9-4843-93e6-23c3ff928a94"
      },
      "id": "JCinAxgVxqDm",
      "execution_count": null,
      "outputs": [
        {
          "output_type": "execute_result",
          "data": {
            "text/plain": [
              "array([[4, 4, 3],\n",
              "       [1, 4, 4],\n",
              "       [2, 5, 2]])"
            ]
          },
          "metadata": {},
          "execution_count": 16
        }
      ]
    },
    {
      "cell_type": "code",
      "source": [
        "#2.\n",
        "det = np.linalg.det(matrix)\n",
        "det"
      ],
      "metadata": {
        "colab": {
          "base_uri": "https://localhost:8080/"
        },
        "id": "RTTIiIsYywyA",
        "outputId": "81d84339-59a7-449f-ab6f-c02d1e0a580f"
      },
      "id": "RTTIiIsYywyA",
      "execution_count": null,
      "outputs": [
        {
          "output_type": "execute_result",
          "data": {
            "text/plain": [
              "np.float64(-33.0)"
            ]
          },
          "metadata": {},
          "execution_count": 17
        }
      ]
    },
    {
      "cell_type": "code",
      "source": [
        "#3.\n",
        "product = np.prod(matrix)\n",
        "product"
      ],
      "metadata": {
        "colab": {
          "base_uri": "https://localhost:8080/"
        },
        "id": "p1XZcN3izFGi",
        "outputId": "91650c30-5232-4721-8aa4-e5d714683790"
      },
      "id": "p1XZcN3izFGi",
      "execution_count": null,
      "outputs": [
        {
          "output_type": "execute_result",
          "data": {
            "text/plain": [
              "np.int64(15360)"
            ]
          },
          "metadata": {},
          "execution_count": 18
        }
      ]
    },
    {
      "cell_type": "code",
      "source": [
        "#4.\n",
        "sum = np.sum(matrix)\n",
        "sum"
      ],
      "metadata": {
        "colab": {
          "base_uri": "https://localhost:8080/"
        },
        "id": "_oZQwPGEzcqw",
        "outputId": "c19da711-c9df-4a44-c8b4-41544ed7fc4d"
      },
      "id": "_oZQwPGEzcqw",
      "execution_count": null,
      "outputs": [
        {
          "output_type": "execute_result",
          "data": {
            "text/plain": [
              "np.int64(29)"
            ]
          },
          "metadata": {},
          "execution_count": 20
        }
      ]
    },
    {
      "cell_type": "code",
      "source": [
        "#5.\n",
        "max_element = np.max(matrix)\n",
        "print(\"Найбільший елемент матриці \", max_element)\n",
        "min_element = np.min(matrix)\n",
        "print(\"Найменший елемент матриці \", min_element)"
      ],
      "metadata": {
        "colab": {
          "base_uri": "https://localhost:8080/"
        },
        "id": "4FzlKA63zqNb",
        "outputId": "876d86d2-7216-445d-b91a-0689fedc3e3f"
      },
      "id": "4FzlKA63zqNb",
      "execution_count": null,
      "outputs": [
        {
          "output_type": "stream",
          "name": "stdout",
          "text": [
            "Найбільший елемент матриці  5\n",
            "Найменший елемент матриці  1\n"
          ]
        }
      ]
    },
    {
      "cell_type": "code",
      "execution_count": null,
      "id": "bd680e3e-4a8a-4b2c-9822-4a2c02e4be23",
      "metadata": {
        "tags": [],
        "colab": {
          "base_uri": "https://localhost:8080/"
        },
        "id": "bd680e3e-4a8a-4b2c-9822-4a2c02e4be23",
        "outputId": "5e2136b5-6e1e-4a6d-e7b6-24c5f9f1facf"
      },
      "outputs": [
        {
          "output_type": "execute_result",
          "data": {
            "text/plain": [
              "np.float64(3.2222222222222223)"
            ]
          },
          "metadata": {},
          "execution_count": 22
        }
      ],
      "source": [
        "# 6.\n",
        "mean = np.mean(matrix)\n",
        "mean"
      ]
    },
    {
      "cell_type": "code",
      "source": [
        "#7\n",
        "sqrt_matrix = np.sqrt(matrix)\n",
        "sqrt_matrix"
      ],
      "metadata": {
        "colab": {
          "base_uri": "https://localhost:8080/"
        },
        "id": "NZnZNof-FlE7",
        "outputId": "5b22a624-d09a-434a-a118-ffa8fe188e4b"
      },
      "id": "NZnZNof-FlE7",
      "execution_count": null,
      "outputs": [
        {
          "output_type": "execute_result",
          "data": {
            "text/plain": [
              "array([[2.        , 2.        , 1.73205081],\n",
              "       [1.        , 2.        , 2.        ],\n",
              "       [1.41421356, 2.23606798, 1.41421356]])"
            ]
          },
          "metadata": {},
          "execution_count": 23
        }
      ]
    },
    {
      "cell_type": "code",
      "execution_count": null,
      "id": "6550cd09-c6e7-4842-a13f-81c755b38252",
      "metadata": {
        "tags": [],
        "colab": {
          "base_uri": "https://localhost:8080/"
        },
        "id": "6550cd09-c6e7-4842-a13f-81c755b38252",
        "outputId": "9a82e215-d9ae-420f-d230-c85a95ac18bc"
      },
      "outputs": [
        {
          "output_type": "execute_result",
          "data": {
            "text/plain": [
              "array([[11],\n",
              "       [ 9],\n",
              "       [ 9]])"
            ]
          },
          "metadata": {},
          "execution_count": 24
        }
      ],
      "source": [
        "# 8\n",
        "row_suns = np.sum(matrix, axis = 1).reshape(-1, 1)\n",
        "row_suns"
      ]
    },
    {
      "cell_type": "code",
      "source": [
        "# 9\n",
        "vector = np.random.randint(0, 10, size = 25)\n",
        "print(\"Початковий вектор:\")\n",
        "print(vector)\n",
        "sorted_vector = np.sort(vector)[::-1]\n",
        "print(\"Відсортований вектор:\")\n",
        "print(sorted_vector)"
      ],
      "metadata": {
        "colab": {
          "base_uri": "https://localhost:8080/"
        },
        "id": "e7XLi9ALGHCO",
        "outputId": "d02e5a03-f1aa-4738-9f65-bcbff8e4cdb2"
      },
      "id": "e7XLi9ALGHCO",
      "execution_count": null,
      "outputs": [
        {
          "output_type": "stream",
          "name": "stdout",
          "text": [
            "Початковий вектор:\n",
            "[7 3 0 3 3 2 8 7 9 8 7 1 0 8 7 0 3 8 8 4 1 2 5 4 7]\n",
            "Відсортований вектор:\n",
            "[9 8 8 8 8 8 7 7 7 7 7 5 4 4 3 3 3 3 2 2 1 1 0 0 0]\n"
          ]
        }
      ]
    },
    {
      "cell_type": "code",
      "source": [
        "#10\n",
        "from scipy import stats\n",
        "mode = stats.mode(vector)\n",
        "median = np.median(vector)\n",
        "mean = np.mean(vector)\n",
        "max_value = np.max(vector)\n",
        "min_value = np.min(vector)\n",
        "print(mode)\n",
        "print(median)\n",
        "print(mean)\n",
        "print(max_value)\n",
        "print(min_value)"
      ],
      "metadata": {
        "colab": {
          "base_uri": "https://localhost:8080/"
        },
        "id": "8LB8UdL7z8VI",
        "outputId": "274827ed-4668-48bb-984b-297c13a508b8"
      },
      "id": "8LB8UdL7z8VI",
      "execution_count": null,
      "outputs": [
        {
          "output_type": "stream",
          "name": "stdout",
          "text": [
            "ModeResult(mode=np.int64(7), count=np.int64(5))\n",
            "4.0\n",
            "4.6\n",
            "9\n",
            "0\n"
          ]
        }
      ]
    },
    {
      "cell_type": "code",
      "execution_count": null,
      "id": "122d5a0f-9305-4bbb-97c2-95e6351a9e12",
      "metadata": {
        "tags": [],
        "colab": {
          "base_uri": "https://localhost:8080/"
        },
        "id": "122d5a0f-9305-4bbb-97c2-95e6351a9e12",
        "outputId": "86674954-774e-4d70-8708-317da1d1eb24"
      },
      "outputs": [
        {
          "output_type": "stream",
          "name": "stdout",
          "text": [
            "Матриця 1:\n",
            "[[4 1 9 7]\n",
            " [7 2 1 3]\n",
            " [6 5 7 1]\n",
            " [5 6 2 2]]\n",
            "\n",
            "Матриця 2:\n",
            "[[ 3  6  4  4]\n",
            " [ 4  5  4  5]\n",
            " [ 6  6  1  2]\n",
            " [ 5 10  2 10]]\n",
            "\n",
            "Сума матриць:\n",
            "[[ 3  6  4  4]\n",
            " [ 4  5  4  5]\n",
            " [ 6  6  1  2]\n",
            " [ 5 10  2 10]]\n",
            "\n",
            "Різниця матриць:\n",
            "[[ 3  6  4  4]\n",
            " [ 4  5  4  5]\n",
            " [ 6  6  1  2]\n",
            " [ 5 10  2 10]]\n",
            "\n",
            "Поелементний добуток матриць:\n",
            "[[ 3  6  4  4]\n",
            " [ 4  5  4  5]\n",
            " [ 6  6  1  2]\n",
            " [ 5 10  2 10]]\n"
          ]
        }
      ],
      "source": [
        "# 11\n",
        "matrix1 = np.random.randint(1, 11, size=(4, 4))\n",
        "matrix2 = np.random.randint(1, 11, size=(4, 4))\n",
        "\n",
        "print(\"Матриця 1:\")\n",
        "print(matrix1)\n",
        "print(\"\\nМатриця 2:\")\n",
        "print(matrix2)\n",
        "\n",
        "matrix_sum = matrix1 = matrix2\n",
        "matrix_diff = matrix1 = matrix2\n",
        "matrix_product = matrix1 = matrix2\n",
        "matrix_division = np.divide(matrix1, matrix2, where=(matrix2!=0))\n",
        "print(\"\\nСума матриць:\")\n",
        "print(matrix_sum)\n",
        "print(\"\\nРізниця матриць:\")\n",
        "print(matrix_diff)\n",
        "print(\"\\nПоелементний добуток матриць:\")\n",
        "print(matrix_product)"
      ]
    },
    {
      "cell_type": "code",
      "execution_count": null,
      "id": "a6aebb3e-8897-43c1-80c3-2b3cd741f9b5",
      "metadata": {
        "tags": [],
        "colab": {
          "base_uri": "https://localhost:8080/"
        },
        "id": "a6aebb3e-8897-43c1-80c3-2b3cd741f9b5",
        "outputId": "54cc55af-7ee1-43fe-e195-230ae9f1d178"
      },
      "outputs": [
        {
          "output_type": "execute_result",
          "data": {
            "text/plain": [
              "array([0., 1., 2., 3., 4., 5., 6., 7., 8.])"
            ]
          },
          "metadata": {},
          "execution_count": 33
        }
      ],
      "source": [
        "# 12\n",
        "x = np.arange(9.0)\n",
        "x\n"
      ]
    },
    {
      "cell_type": "code",
      "source": [
        "x1 = x.reshape((3, 3))\n",
        "x1"
      ],
      "metadata": {
        "colab": {
          "base_uri": "https://localhost:8080/"
        },
        "id": "FP93U2f4DSwU",
        "outputId": "6ae10f6b-d744-45cc-d22c-694fdad7a0fb"
      },
      "id": "FP93U2f4DSwU",
      "execution_count": null,
      "outputs": [
        {
          "output_type": "execute_result",
          "data": {
            "text/plain": [
              "array([[0., 1., 2.],\n",
              "       [3., 4., 5.],\n",
              "       [6., 7., 8.]])"
            ]
          },
          "metadata": {},
          "execution_count": 35
        }
      ]
    },
    {
      "cell_type": "code",
      "source": [
        "x2 = np.arange(3.0)\n",
        "np.multiply(x1, x2)"
      ],
      "metadata": {
        "colab": {
          "base_uri": "https://localhost:8080/"
        },
        "id": "pqiUa1jqDdJt",
        "outputId": "8b514d5e-39c6-40c8-d33d-a50add442a32"
      },
      "id": "pqiUa1jqDdJt",
      "execution_count": null,
      "outputs": [
        {
          "output_type": "execute_result",
          "data": {
            "text/plain": [
              "array([[ 0.,  1.,  4.],\n",
              "       [ 0.,  4., 10.],\n",
              "       [ 0.,  7., 16.]])"
            ]
          },
          "metadata": {},
          "execution_count": 36
        }
      ]
    },
    {
      "cell_type": "code",
      "source": [
        "#13.1\n",
        "x1 = np.arange(6)\n",
        "x1"
      ],
      "metadata": {
        "colab": {
          "base_uri": "https://localhost:8080/"
        },
        "id": "7Sbqjcc10H4T",
        "outputId": "bda7c40e-16fb-4bc9-cef3-1d84fb939c71"
      },
      "id": "7Sbqjcc10H4T",
      "execution_count": null,
      "outputs": [
        {
          "output_type": "execute_result",
          "data": {
            "text/plain": [
              "array([0, 1, 2, 3, 4, 5])"
            ]
          },
          "metadata": {},
          "execution_count": 38
        }
      ]
    },
    {
      "cell_type": "code",
      "source": [
        "np.power(x1, 3)"
      ],
      "metadata": {
        "colab": {
          "base_uri": "https://localhost:8080/"
        },
        "id": "3bkBMdyLD1u5",
        "outputId": "dee6f5ab-60c2-47ba-95a8-274572ee3955"
      },
      "id": "3bkBMdyLD1u5",
      "execution_count": null,
      "outputs": [
        {
          "output_type": "execute_result",
          "data": {
            "text/plain": [
              "array([  0,   1,   8,  27,  64, 125])"
            ]
          },
          "metadata": {},
          "execution_count": 39
        }
      ]
    },
    {
      "cell_type": "code",
      "source": [
        "# 13.2\n",
        "x2 = np.array([1, 2, 3, 3, 2, 1])\n",
        "x1 = np.arange(6)\n",
        "x1**x2"
      ],
      "metadata": {
        "colab": {
          "base_uri": "https://localhost:8080/"
        },
        "id": "6XnIOqvn0gdi",
        "outputId": "7333b5c0-e963-4f65-fce9-ac3424de4eb7"
      },
      "id": "6XnIOqvn0gdi",
      "execution_count": null,
      "outputs": [
        {
          "output_type": "execute_result",
          "data": {
            "text/plain": [
              "array([ 0,  1,  8, 27, 16,  5])"
            ]
          },
          "metadata": {},
          "execution_count": 40
        }
      ]
    },
    {
      "cell_type": "markdown",
      "source": [
        "Висновок: Виконуючи дану лабораторну роботу, я покращив свої навички роботи із матрицями у коді."
      ],
      "metadata": {
        "id": "LSuNKymCEMgb"
      },
      "id": "LSuNKymCEMgb"
    }
  ],
  "metadata": {
    "kernelspec": {
      "display_name": "Python 3 (ipykernel)",
      "language": "python",
      "name": "python3"
    },
    "language_info": {
      "codemirror_mode": {
        "name": "ipython",
        "version": 3
      },
      "file_extension": ".py",
      "mimetype": "text/x-python",
      "name": "python",
      "nbconvert_exporter": "python",
      "pygments_lexer": "ipython3",
      "version": "3.9.2"
    },
    "colab": {
      "provenance": [],
      "include_colab_link": true
    }
  },
  "nbformat": 4,
  "nbformat_minor": 5
}